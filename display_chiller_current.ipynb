{
 "cells": [
  {
   "cell_type": "code",
   "execution_count": 7,
   "id": "e91556ee-3532-449a-a2a6-02bd954efaa3",
   "metadata": {},
   "outputs": [
    {
     "data": {
      "text/plain": [
       "'\\nDisplay chiller current\\nAur: Jiancheng Zeng\\nDate: Feb 01, 2023\\n'"
      ]
     },
     "execution_count": 7,
     "metadata": {},
     "output_type": "execute_result"
    }
   ],
   "source": [
    "\"\"\"\n",
    "Display chiller current\n",
    "Aur: Jiancheng Zeng\n",
    "Date: Feb 01, 2023\n",
    "\"\"\""
   ]
  },
  {
   "cell_type": "code",
   "execution_count": 8,
   "id": "ce918ccc-3941-4064-94a7-1f65707d7acf",
   "metadata": {},
   "outputs": [],
   "source": [
    "import numpy as np\n",
    "import matplotlib.pyplot as plt\n",
    "import pandas as pd\n",
    "from mpl_toolkits.mplot3d import Axes3D\n",
    "from pylab import *\n",
    "from matplotlib.pyplot import figure"
   ]
  },
  {
   "cell_type": "code",
   "execution_count": 10,
   "id": "8592e4e2-ba16-4c0c-9eba-d786b8452b47",
   "metadata": {},
   "outputs": [
    {
     "name": "stdout",
     "output_type": "stream",
     "text": [
      "      1 s Measurements   Unnamed: 1 Unnamed: 2 Unnamed: 3 Unnamed: 4  \\\n",
      "0                 Date         Time   V1 (1 s)   V2 (1 s)   V3 (1 s)   \n",
      "1                  NaN          NaN          V          V          V   \n",
      "2            1/30/2023  12:20:47 PM      121.2      121.9      121.3   \n",
      "3            1/30/2023  12:20:48 PM      121.2      121.9      121.3   \n",
      "4            1/30/2023  12:20:49 PM      121.2      121.9      121.3   \n",
      "...                ...          ...        ...        ...        ...   \n",
      "19872        1/30/2023   5:51:57 PM          0          0          0   \n",
      "19873        1/30/2023   5:51:58 PM          0          0          0   \n",
      "19874        1/30/2023   5:51:59 PM          0          0          0   \n",
      "19875        1/30/2023   5:52:00 PM          0          0          0   \n",
      "19876        1/30/2023   5:52:01 PM          0          0          0   \n",
      "\n",
      "      Unnamed: 5 Unnamed: 6 Unnamed: 7 Unnamed: 8 Unnamed: 9  ...  \\\n",
      "0      U12 (1 s)  U23 (1 s)  U31 (1 s)   I1 (1 s)   I2 (1 s)  ...   \n",
      "1              V          V          V          A          A  ...   \n",
      "2          209.7      210.3      211.1     0.9944          0  ...   \n",
      "3          209.7      210.3      211.1     0.9946          0  ...   \n",
      "4          209.7      210.3      211.1     0.9942          0  ...   \n",
      "...          ...        ...        ...        ...        ...  ...   \n",
      "19872          0          0          0          0          0  ...   \n",
      "19873          0          0          0          0          0  ...   \n",
      "19874          0          0          0          0          0  ...   \n",
      "19875          0          0          0          0          0  ...   \n",
      "19876          0          0          0          0          0  ...   \n",
      "\n",
      "        Unnamed: 40   Unnamed: 41   Unnamed: 42    Unnamed: 43    Unnamed: 44  \\\n",
      "0      V1-THD (1 s)  V2-THD (1 s)  V3-THD (1 s)  U12-THD (1 s)  U23-THD (1 s)   \n",
      "1                 %             %             %              %              %   \n",
      "2              2.33          2.08          2.31           2.09           2.08   \n",
      "3              2.33          2.08          2.31           2.09           2.08   \n",
      "4              2.39          2.06          2.36           2.07           2.08   \n",
      "...             ...           ...           ...            ...            ...   \n",
      "19872         # # #         # # #         # # #          # # #          # # #   \n",
      "19873         # # #         # # #         # # #          # # #          # # #   \n",
      "19874         # # #         # # #         # # #          # # #          # # #   \n",
      "19875         # # #         # # #         # # #          # # #          # # #   \n",
      "19876         # # #         # # #         # # #          # # #          # # #   \n",
      "\n",
      "         Unnamed: 45   Unnamed: 46   Unnamed: 47   Unnamed: 48   Unnamed: 49  \n",
      "0      U31-THD (1 s)  I1-THD (1 s)  I2-THD (1 s)  I3-THD (1 s)  IN-THD (1 s)  \n",
      "1                  %             %             %             %             %  \n",
      "2               2.13         14.57         # # #         14.85         # # #  \n",
      "3               2.13         14.57         # # #         14.85         # # #  \n",
      "4               2.15         14.58         # # #         14.86         # # #  \n",
      "...              ...           ...           ...           ...           ...  \n",
      "19872          # # #         # # #         # # #         # # #         # # #  \n",
      "19873          # # #         # # #         # # #         # # #         # # #  \n",
      "19874          # # #         # # #         # # #         # # #         # # #  \n",
      "19875          # # #         # # #         # # #         # # #         110.4  \n",
      "19876          # # #         # # #         # # #         # # #         # # #  \n",
      "\n",
      "[19877 rows x 50 columns]\n"
     ]
    }
   ],
   "source": [
    "'''\n",
    "read data from excel file under certain sheet\n",
    "'''\n",
    "xls = pd.ExcelFile(\"/home/jiancheng/GAPS/chillers/new_chiller_plus_backup_01_304.xlsx\")\n",
    "data = pd.read_excel(xls, '1 s Measurements')\n",
    "plt.scatter(data)"
   ]
  },
  {
   "cell_type": "code",
   "execution_count": null,
   "id": "e72a5738-4928-46c3-b037-075f7356a1bf",
   "metadata": {},
   "outputs": [],
   "source": []
  }
 ],
 "metadata": {
  "kernelspec": {
   "display_name": "Python 3 (ipykernel)",
   "language": "python",
   "name": "python3"
  },
  "language_info": {
   "codemirror_mode": {
    "name": "ipython",
    "version": 3
   },
   "file_extension": ".py",
   "mimetype": "text/x-python",
   "name": "python",
   "nbconvert_exporter": "python",
   "pygments_lexer": "ipython3",
   "version": "3.10.6"
  }
 },
 "nbformat": 4,
 "nbformat_minor": 5
}
